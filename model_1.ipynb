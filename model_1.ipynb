{
 "cells": [
  {
   "cell_type": "markdown",
   "id": "d45c45df",
   "metadata": {},
   "source": [
    "## Import Library"
   ]
  },
  {
   "cell_type": "code",
   "execution_count": 1,
   "id": "f3cbb987",
   "metadata": {},
   "outputs": [],
   "source": [
    "import pandas as pd\n",
    "import numpy as np\n",
    "import seaborn as sns\n",
    "import matplotlib.pyplot as plt\n",
    "import tensorflow as tf\n",
    "from matplotlib.image import imread\n",
    "from tensorflow.keras.optimizers import Adam\n",
    "from tensorflow.keras.preprocessing.image import ImageDataGenerator\n",
    "from tensorflow.keras.models import Sequential\n",
    "from tensorflow.keras.layers import Conv2D, MaxPool2D, Flatten, Dense\n",
    "from tensorflow.keras.layers import BatchNormalization\n",
    "from tensorflow.keras.callbacks import EarlyStopping\n",
    "from tensorflow.keras.preprocessing import image"
   ]
  },
  {
   "cell_type": "code",
   "execution_count": 11,
   "id": "519d3004",
   "metadata": {},
   "outputs": [],
   "source": [
    "import os"
   ]
  },
  {
   "cell_type": "markdown",
   "id": "04a65a8d",
   "metadata": {},
   "source": [
    "## Load Data "
   ]
  },
  {
   "cell_type": "code",
   "execution_count": 9,
   "id": "c292fd12",
   "metadata": {},
   "outputs": [],
   "source": [
    "dataset = \"../Dropbox/DATASET/\"\n",
    "data_train = (dataset+\"/train\")\n",
    "data_test = (dataset+\"/test\")\n",
    "\n",
    "lengt_data_x_train = \"../Dropbox/DATASET/train/COVID19\"\n",
    "lengt_data_y_train = \"../Dropbox/DATASET/train/NORMAL\"\n",
    "lengt_data_x_test = \"../Dropbox/DATASET/test/COVID19\"\n",
    "lengt_data_y_test = \"../Dropbox/DATASET/test/NORMAL\""
   ]
  },
  {
   "cell_type": "code",
   "execution_count": 11,
   "id": "bb9267de",
   "metadata": {},
   "outputs": [
    {
     "name": "stdout",
     "output_type": "stream",
     "text": [
      "1726 433\n"
     ]
    }
   ],
   "source": [
    "lengt_data_train = len(os.listdir(lengt_data_x_train)) + len(os.listdir(lengt_data_y_train))\n",
    "lengt_data_test = len(os.listdir(lengt_data_x_test)) + len(os.listdir(lengt_data_y_test))\n",
    "\n",
    "\n",
    "print(lengt_data_train, lengt_data_test)"
   ]
  },
  {
   "cell_type": "markdown",
   "id": "4ba9cf3c",
   "metadata": {},
   "source": [
    "## Augmentasi Data "
   ]
  },
  {
   "cell_type": "code",
   "execution_count": 12,
   "id": "257dd73b",
   "metadata": {},
   "outputs": [],
   "source": [
    "generator = ImageDataGenerator(\n",
    "    shear_range=0.1,\n",
    "    zoom_range=0.2,\n",
    "    fill_mode='nearest',\n",
    "    horizontal_flip=True,\n",
    "    vertical_flip=True,\n",
    "    rescale=1/255,\n",
    ")"
   ]
  },
  {
   "cell_type": "code",
   "execution_count": 15,
   "id": "ffc89be0",
   "metadata": {},
   "outputs": [
    {
     "name": "stdout",
     "output_type": "stream",
     "text": [
      "Found 1726 images belonging to 2 classes.\n"
     ]
    }
   ],
   "source": [
    "train_generator = generator.flow_from_directory (\n",
    "    data_train,\n",
    "    target_size=(400,400),\n",
    "    color_mode='rgb',\n",
    "    class_mode='binary',\n",
    "    batch_size=32,\n",
    ")"
   ]
  },
  {
   "cell_type": "code",
   "execution_count": 16,
   "id": "0f7aeb01",
   "metadata": {},
   "outputs": [
    {
     "name": "stdout",
     "output_type": "stream",
     "text": [
      "Found 433 images belonging to 2 classes.\n"
     ]
    }
   ],
   "source": [
    "test_generator = generator.flow_from_directory (\n",
    "    data_test,\n",
    "    target_size=(400,400),\n",
    "    color_mode='rgb',\n",
    "    class_mode='binary',\n",
    "    batch_size=32,\n",
    ")"
   ]
  },
  {
   "cell_type": "markdown",
   "id": "d0ae9a95",
   "metadata": {},
   "source": [
    "## Model Arsitektur CNN "
   ]
  },
  {
   "cell_type": "code",
   "execution_count": 17,
   "id": "9346e574",
   "metadata": {},
   "outputs": [],
   "source": [
    "model = Sequential()\n",
    "\n",
    "#layer pertama\n",
    "model.add(Conv2D(filters = 32, padding = \"same\", kernel_size = (2,2), strides = (2,2), activation = \"relu\", input_shape = [400,400,3]))\n",
    "model.add(MaxPool2D(pool_size = (2,2)))\n",
    "\n",
    "#layer kedua\n",
    "model.add(Conv2D(filters = 32, padding = \"same\", kernel_size = (2,2), strides = (2,2), activation = \"relu\", input_shape = [400,400,3]))\n",
    "model.add(MaxPool2D(pool_size = (2,2)))\n",
    "\n",
    "# layer ketiga\n",
    "model.add(Conv2D(filters = 64, padding = \"same\", kernel_size = (2,2), strides = (2,2), activation = \"relu\", input_shape = [400,400,3]))\n",
    "model.add(MaxPool2D(pool_size = (2,2)))\n",
    "\n",
    "#flattening\n",
    "model.add(Flatten())\n",
    "\n",
    "#fully connected layer\n",
    "model.add(Dense(units = 128, activation = \"relu\"))\n",
    "model.add(Dense(units = 1, activation = \"sigmoid\"))\n",
    "model.compile(loss = \"binary_crossentropy\", optimizer = \"adam\" , metrics = [\"accuracy\"])"
   ]
  },
  {
   "cell_type": "code",
   "execution_count": 25,
   "id": "b8105ab7",
   "metadata": {},
   "outputs": [],
   "source": [
    "# Callback agar model CNN berhenti menjalankan proses training saat mencapai nilai akurasi 99%\n",
    "class MyCallback (tf.keras.callbacks.Callback):\n",
    "    def on_epoch_end (self, epoch, logs={}):\n",
    "        if(logs.get('accuracy')>0.99):\n",
    "            print(\"\\nAkurasi telah mencapai 99% membatalkan proses training\")\n",
    "            self.model.stop_training = True\n",
    "\n",
    "callbacks = MyCallback()"
   ]
  },
  {
   "cell_type": "code",
   "execution_count": 26,
   "id": "99b6d32a",
   "metadata": {},
   "outputs": [],
   "source": [
    "checkpoint = tf.keras.callbacks.EarlyStopping(patience=10, restore_best_weights=True)"
   ]
  },
  {
   "cell_type": "code",
   "execution_count": 28,
   "id": "83d2d786",
   "metadata": {},
   "outputs": [
    {
     "name": "stdout",
     "output_type": "stream",
     "text": [
      "Epoch 1/50\n",
      "53/53 [==============================] - 149s 3s/step - loss: 0.4474 - accuracy: 0.7715 - val_loss: 0.2727 - val_accuracy: 0.8726\n",
      "Epoch 2/50\n",
      "53/53 [==============================] - 134s 3s/step - loss: 0.2451 - accuracy: 0.9067 - val_loss: 0.2346 - val_accuracy: 0.9038\n",
      "Epoch 3/50\n",
      "53/53 [==============================] - 138s 3s/step - loss: 0.1812 - accuracy: 0.9315 - val_loss: 0.1317 - val_accuracy: 0.9447\n",
      "Epoch 4/50\n",
      "53/53 [==============================] - 134s 3s/step - loss: 0.1450 - accuracy: 0.9475 - val_loss: 0.0941 - val_accuracy: 0.9760\n",
      "Epoch 5/50\n",
      "53/53 [==============================] - 134s 3s/step - loss: 0.1127 - accuracy: 0.9599 - val_loss: 0.1071 - val_accuracy: 0.9615\n",
      "Epoch 6/50\n",
      "53/53 [==============================] - 136s 3s/step - loss: 0.1185 - accuracy: 0.9569 - val_loss: 0.0818 - val_accuracy: 0.9784\n",
      "Epoch 7/50\n",
      "53/53 [==============================] - 136s 3s/step - loss: 0.1394 - accuracy: 0.9498 - val_loss: 0.0554 - val_accuracy: 0.9832\n",
      "Epoch 8/50\n",
      "53/53 [==============================] - 134s 3s/step - loss: 0.1224 - accuracy: 0.9528 - val_loss: 0.0763 - val_accuracy: 0.9760\n",
      "Epoch 9/50\n",
      "53/53 [==============================] - 140s 3s/step - loss: 0.0917 - accuracy: 0.9646 - val_loss: 0.0670 - val_accuracy: 0.9760\n",
      "Epoch 10/50\n",
      "53/53 [==============================] - 136s 3s/step - loss: 0.0925 - accuracy: 0.9658 - val_loss: 0.0567 - val_accuracy: 0.9880\n",
      "Epoch 11/50\n",
      "53/53 [==============================] - 135s 3s/step - loss: 0.0977 - accuracy: 0.9599 - val_loss: 0.0881 - val_accuracy: 0.9639\n",
      "Epoch 12/50\n",
      "53/53 [==============================] - 137s 3s/step - loss: 0.0961 - accuracy: 0.9658 - val_loss: 0.0588 - val_accuracy: 0.9736\n",
      "Epoch 13/50\n",
      "53/53 [==============================] - 137s 3s/step - loss: 0.0901 - accuracy: 0.9699 - val_loss: 0.0459 - val_accuracy: 0.9832\n",
      "Epoch 14/50\n",
      "53/53 [==============================] - 146s 3s/step - loss: 0.0787 - accuracy: 0.9723 - val_loss: 0.0870 - val_accuracy: 0.9712\n",
      "Epoch 15/50\n",
      "53/53 [==============================] - 186s 4s/step - loss: 0.1102 - accuracy: 0.9587 - val_loss: 0.0689 - val_accuracy: 0.9639\n",
      "Epoch 16/50\n",
      "53/53 [==============================] - 174s 3s/step - loss: 0.0902 - accuracy: 0.9693 - val_loss: 0.0994 - val_accuracy: 0.9663\n",
      "Epoch 17/50\n",
      "53/53 [==============================] - 183s 3s/step - loss: 0.0837 - accuracy: 0.9693 - val_loss: 0.1407 - val_accuracy: 0.9351\n",
      "Epoch 18/50\n",
      "53/53 [==============================] - 177s 3s/step - loss: 0.0676 - accuracy: 0.9752 - val_loss: 0.0636 - val_accuracy: 0.9904\n",
      "Epoch 19/50\n",
      "53/53 [==============================] - 179s 3s/step - loss: 0.0829 - accuracy: 0.9705 - val_loss: 0.0442 - val_accuracy: 0.9808\n",
      "Epoch 20/50\n",
      "53/53 [==============================] - 179s 3s/step - loss: 0.0707 - accuracy: 0.9740 - val_loss: 0.0774 - val_accuracy: 0.9688\n",
      "Epoch 21/50\n",
      "53/53 [==============================] - 183s 3s/step - loss: 0.0812 - accuracy: 0.9699 - val_loss: 0.0722 - val_accuracy: 0.9688\n",
      "Epoch 22/50\n",
      "53/53 [==============================] - 184s 3s/step - loss: 0.0596 - accuracy: 0.9776 - val_loss: 0.0591 - val_accuracy: 0.9784\n",
      "Epoch 23/50\n",
      "53/53 [==============================] - 187s 4s/step - loss: 0.0977 - accuracy: 0.9646 - val_loss: 0.0342 - val_accuracy: 0.9928\n",
      "Epoch 24/50\n",
      "53/53 [==============================] - 184s 3s/step - loss: 0.0785 - accuracy: 0.9717 - val_loss: 0.0797 - val_accuracy: 0.9663\n",
      "Epoch 25/50\n",
      "53/53 [==============================] - 190s 4s/step - loss: 0.0788 - accuracy: 0.9705 - val_loss: 0.0492 - val_accuracy: 0.9880\n",
      "Epoch 26/50\n",
      "53/53 [==============================] - 192s 4s/step - loss: 0.0604 - accuracy: 0.9782 - val_loss: 0.0490 - val_accuracy: 0.9832\n",
      "Epoch 27/50\n",
      "53/53 [==============================] - 175s 3s/step - loss: 0.0829 - accuracy: 0.9705 - val_loss: 0.0433 - val_accuracy: 0.9808\n",
      "Epoch 28/50\n",
      "53/53 [==============================] - 135s 3s/step - loss: 0.0519 - accuracy: 0.9835 - val_loss: 0.0471 - val_accuracy: 0.9856\n",
      "Epoch 29/50\n",
      "53/53 [==============================] - 135s 3s/step - loss: 0.0668 - accuracy: 0.9746 - val_loss: 0.0339 - val_accuracy: 0.9928\n",
      "Epoch 30/50\n",
      "53/53 [==============================] - 135s 3s/step - loss: 0.0604 - accuracy: 0.9793 - val_loss: 0.0391 - val_accuracy: 0.9832\n",
      "Epoch 31/50\n",
      "53/53 [==============================] - 135s 3s/step - loss: 0.0633 - accuracy: 0.9764 - val_loss: 0.0544 - val_accuracy: 0.9808\n",
      "Epoch 32/50\n",
      "53/53 [==============================] - 133s 3s/step - loss: 0.0731 - accuracy: 0.9746 - val_loss: 0.0258 - val_accuracy: 0.9928\n",
      "Epoch 33/50\n",
      "53/53 [==============================] - 123s 2s/step - loss: 0.0558 - accuracy: 0.9787 - val_loss: 0.0279 - val_accuracy: 0.9928\n",
      "Epoch 34/50\n",
      "53/53 [==============================] - 124s 2s/step - loss: 0.0603 - accuracy: 0.9782 - val_loss: 0.0450 - val_accuracy: 0.9808\n",
      "Epoch 35/50\n",
      "53/53 [==============================] - 121s 2s/step - loss: 0.0526 - accuracy: 0.9776 - val_loss: 0.0318 - val_accuracy: 0.9904\n",
      "Epoch 36/50\n",
      "53/53 [==============================] - 124s 2s/step - loss: 0.0581 - accuracy: 0.9782 - val_loss: 0.0449 - val_accuracy: 0.9832\n",
      "Epoch 37/50\n",
      "53/53 [==============================] - 127s 2s/step - loss: 0.0581 - accuracy: 0.9787 - val_loss: 0.0415 - val_accuracy: 0.9784\n",
      "Epoch 38/50\n",
      "53/53 [==============================] - 123s 2s/step - loss: 0.0599 - accuracy: 0.9776 - val_loss: 0.0375 - val_accuracy: 0.9832\n",
      "Epoch 39/50\n",
      "53/53 [==============================] - 124s 2s/step - loss: 0.0491 - accuracy: 0.9817 - val_loss: 0.0471 - val_accuracy: 0.9832\n",
      "Epoch 40/50\n",
      "53/53 [==============================] - 123s 2s/step - loss: 0.0512 - accuracy: 0.9811 - val_loss: 0.0315 - val_accuracy: 0.9904\n",
      "Epoch 41/50\n",
      "53/53 [==============================] - 124s 2s/step - loss: 0.0447 - accuracy: 0.9853 - val_loss: 0.0523 - val_accuracy: 0.9784\n",
      "Epoch 42/50\n",
      "53/53 [==============================] - 125s 2s/step - loss: 0.0473 - accuracy: 0.9799 - val_loss: 0.0353 - val_accuracy: 0.9880\n",
      "6210.958900928497\n"
     ]
    }
   ],
   "source": [
    "from time import time\n",
    "\n",
    "start = time()\n",
    "\n",
    "history = model.fit(\n",
    "    train_generator,\n",
    "    steps_per_epoch= lengt_data_train // 32,\n",
    "    epochs= 50,\n",
    "    validation_data=test_generator,\n",
    "    validation_steps= lengt_data_test // 32, \n",
    "    callbacks=[checkpoint, callbacks]\n",
    ")\n",
    "\n",
    "print(time()-start)"
   ]
  },
  {
   "cell_type": "code",
   "execution_count": 29,
   "id": "534d1792",
   "metadata": {},
   "outputs": [
    {
     "name": "stdout",
     "output_type": "stream",
     "text": [
      "Time: 01:43:31\n"
     ]
    }
   ],
   "source": [
    "trainTime = 6210.958900928497\n",
    "\n",
    "def fill(num):\n",
    "    return str(num).zfill(2)\n",
    "\n",
    "hours = int(trainTime // 3600)\n",
    "minutes = int((trainTime - (hours * 3600)) // 60)\n",
    "seconds = int(round(trainTime - (hours*3600 + minutes*60)))\n",
    "print('Time: {}:{}:{}'.format(fill(hours), fill(minutes), fill(seconds)))"
   ]
  },
  {
   "cell_type": "code",
   "execution_count": 30,
   "id": "7d3000d5",
   "metadata": {},
   "outputs": [
    {
     "name": "stdout",
     "output_type": "stream",
     "text": [
      "Model: \"sequential\"\n",
      "_________________________________________________________________\n",
      " Layer (type)                Output Shape              Param #   \n",
      "=================================================================\n",
      " conv2d (Conv2D)             (None, 200, 200, 32)      416       \n",
      "                                                                 \n",
      " max_pooling2d (MaxPooling2D  (None, 100, 100, 32)     0         \n",
      " )                                                               \n",
      "                                                                 \n",
      " conv2d_1 (Conv2D)           (None, 50, 50, 32)        4128      \n",
      "                                                                 \n",
      " max_pooling2d_1 (MaxPooling  (None, 25, 25, 32)       0         \n",
      " 2D)                                                             \n",
      "                                                                 \n",
      " conv2d_2 (Conv2D)           (None, 13, 13, 64)        8256      \n",
      "                                                                 \n",
      " max_pooling2d_2 (MaxPooling  (None, 6, 6, 64)         0         \n",
      " 2D)                                                             \n",
      "                                                                 \n",
      " flatten (Flatten)           (None, 2304)              0         \n",
      "                                                                 \n",
      " dense (Dense)               (None, 128)               295040    \n",
      "                                                                 \n",
      " dense_1 (Dense)             (None, 1)                 129       \n",
      "                                                                 \n",
      "=================================================================\n",
      "Total params: 307,969\n",
      "Trainable params: 307,969\n",
      "Non-trainable params: 0\n",
      "_________________________________________________________________\n"
     ]
    }
   ],
   "source": [
    "model.summary()"
   ]
  },
  {
   "cell_type": "markdown",
   "id": "f36b6021",
   "metadata": {},
   "source": [
    "## Grafik Performa CNN "
   ]
  },
  {
   "cell_type": "code",
   "execution_count": 97,
   "id": "c081ff5c",
   "metadata": {},
   "outputs": [
    {
     "data": {
      "image/png": "[encoded data removed]",
      "text/plain": [
       "<Figure size 1080x360 with 2 Axes>"
      ]
     },
     "metadata": {},
     "output_type": "display_data"
    }
   ],
   "source": [
    "fig, axarr = plt.subplots(1,2, figsize=(15,5), sharex=True)\n",
    "\n",
    "sns.set(style=\"ticks\", font_scale = 1)\n",
    "sns.despine(top=True, right=True, left=False, bottom=False)\n",
    "\n",
    "historyDF = pd.DataFrame.from_dict(history.history)\n",
    "ax = sns.lineplot(x = historyDF.index, y = history.history['accuracy'], ax=axarr[0], label=\"Training\");\n",
    "ax = sns.lineplot(x = historyDF.index, y = history.history['val_accuracy'], ax=axarr[0], label=\"Validation\");\n",
    "ax.set_ylabel('Accuracy')\n",
    "\n",
    "ax = sns.lineplot(x = historyDF.index, y = history.history['loss'], ax=axarr[1], label=\"Training\");\n",
    "ax = sns.lineplot(x = historyDF.index, y = history.history['val_loss'], ax=axarr[1], label=\"Validation\");\n",
    "ax.set_ylabel('Loss')\n",
    "\n",
    "\n",
    "axarr[0].set_title('Accuracy')\n",
    "axarr[1].set_title('Loss')\n",
    "\n",
    "for ax in axarr:\n",
    "    ax.set_xlabel('Epochs')\n",
    "\n",
    "plt.suptitle('Training and Performance Model 1', fontsize=16, weight='bold');\n",
    "plt.savefig('Training Model1.png')\n",
    "fig.tight_layout(pad=3.0)\n",
    "plt.show()"
   ]
  },
  {
   "cell_type": "markdown",
   "id": "8419653c",
   "metadata": {},
   "source": [
    "## Confusion Matrix Manual "
   ]
  },
  {
   "cell_type": "code",
   "execution_count": 32,
   "id": "b5169d7d",
   "metadata": {},
   "outputs": [
    {
     "name": "stdout",
     "output_type": "stream",
     "text": [
      "Jumlah Covid :81\n",
      "Jumlah Normal :35\n"
     ]
    }
   ],
   "source": [
    "covid = 0\n",
    "normal = 0\n",
    "for i in range(460, 576): \n",
    "    test_image = image.load_img('../Dropbox/DATASET/test/COVID19/COVID19(' + str(i) + ').jpg', target_size = (400, 400))\n",
    "    test_image = image.img_to_array(test_image)\n",
    "    test_image = np.expand_dims(test_image, axis = 0)\n",
    "    result = model.predict(test_image)\n",
    "    if result[0][0] == 0:\n",
    "        prediction = 'COVID19'\n",
    "        covid = covid + 1\n",
    "    else:\n",
    "        prediction = 'NORMAL'\n",
    "        normal = normal + 1\n",
    "\n",
    "# Mencetak hasil prediksinya agar bisa dibaca\n",
    "print(\"Jumlah Covid :\" + str(covid))    \n",
    "print(\"Jumlah Normal :\" + str(normal))"
   ]
  },
  {
   "cell_type": "code",
   "execution_count": 33,
   "id": "d3bcbdcd",
   "metadata": {},
   "outputs": [
    {
     "name": "stdout",
     "output_type": "stream",
     "text": [
      "Jumlah Covid :3\n",
      "Jumlah Normal :314\n"
     ]
    }
   ],
   "source": [
    "covid = 0\n",
    "normal = 0\n",
    "for i in range(1266, 1583): \n",
    "    test_image = image.load_img('../Dropbox/DATASET/test/NORMAL/NORMAL(' + str(i) + ').jpg', target_size = (400, 400))\n",
    "    test_image = image.img_to_array(test_image)\n",
    "    test_image = np.expand_dims(test_image, axis = 0)\n",
    "    result = model.predict(test_image)\n",
    "    if result[0][0] == 0:\n",
    "        prediction = 'COVID19'\n",
    "        covid = covid + 1\n",
    "    else:\n",
    "        prediction = 'NORMAL'\n",
    "        normal = normal + 1\n",
    "\n",
    "# Mencetak hasil prediksinya agar bisa dibaca\n",
    "print(\"Jumlah Covid :\" + str(covid))    \n",
    "print(\"Jumlah Normal :\" + str(normal))"
   ]
  },
  {
   "cell_type": "code",
   "execution_count": 34,
   "id": "f51a7bfa",
   "metadata": {},
   "outputs": [
    {
     "name": "stdout",
     "output_type": "stream",
     "text": [
      "Accuracy  : 0.91\n",
      "Precision : 0.96\n",
      "Recall    : 0.70\n",
      "F1_Score  : 0.81\n"
     ]
    }
   ],
   "source": [
    "tp = 81\n",
    "tn = 314\n",
    "fp = 3\n",
    "fn = 35\n",
    "\n",
    "akurasi = (tp+tn)/(tp+tn+fn+fp)\n",
    "print('Accuracy  : {:.2f}'.format(akurasi))\n",
    "\n",
    "precision = tp/(tp+fp)\n",
    "print('Precision : {:.2f}'.format(precision))\n",
    "\n",
    "\n",
    "recal = tp/(tp+fn)\n",
    "print('Recall    : {:.2f}'.format(recal))\n",
    "\n",
    "\n",
    "f1_score = (2*precision*recal)/(precision+recal)\n",
    "print('F1_Score  : {:.2f}'.format(f1_score))"
   ]
  },
  {
   "cell_type": "markdown",
   "id": "915d4ecd",
   "metadata": {},
   "source": [
    "## Confusion Matrix Library "
   ]
  },
  {
   "cell_type": "code",
   "execution_count": 6,
   "id": "718fde7c",
   "metadata": {},
   "outputs": [],
   "source": [
    "test_data_dir = \"../Dropbox/DATASET/test/\""
   ]
  },
  {
   "cell_type": "code",
   "execution_count": 7,
   "id": "2a001738",
   "metadata": {},
   "outputs": [],
   "source": [
    "test_datagen = ImageDataGenerator(\n",
    "    rescale=1. / 255, \n",
    ")"
   ]
  },
  {
   "cell_type": "code",
   "execution_count": 8,
   "id": "3f305ee3",
   "metadata": {},
   "outputs": [
    {
     "name": "stdout",
     "output_type": "stream",
     "text": [
      "Found 433 images belonging to 2 classes.\n"
     ]
    }
   ],
   "source": [
    "generator = test_datagen.flow_from_directory(\n",
    "        test_data_dir,\n",
    "        target_size=(400, 400),\n",
    "        batch_size=1,\n",
    "        class_mode='binary',\n",
    "        shuffle=False)"
   ]
  },
  {
   "cell_type": "code",
   "execution_count": 9,
   "id": "2ee0ee33",
   "metadata": {},
   "outputs": [],
   "source": [
    "predict = loaded_model.predict(generator)"
   ]
  },
  {
   "cell_type": "code",
   "execution_count": 12,
   "id": "a3117866",
   "metadata": {},
   "outputs": [],
   "source": [
    "import re\n",
    "test_dir = \"../Dropbox/DATASET/testing/\"\n",
    "y_actual = []\n",
    "\n",
    "for filename in os.listdir(test_dir):\n",
    "    if re.search('COVID19', filename):\n",
    "        y_actual.append(0)\n",
    "    else:\n",
    "        y_actual.append(1) "
   ]
  },
  {
   "cell_type": "code",
   "execution_count": 13,
   "id": "2abb73aa",
   "metadata": {},
   "outputs": [],
   "source": [
    "y_predict = []\n",
    "\n",
    "for list_acc in predict:\n",
    "    for acc in list_acc:\n",
    "        if acc > 0.5:\n",
    "            y_predict.append(1)\n",
    "        else:\n",
    "            y_predict.append(0)"
   ]
  },
  {
   "cell_type": "code",
   "execution_count": 16,
   "id": "94765082",
   "metadata": {},
   "outputs": [
    {
     "data": {
      "text/plain": [
       "array([[113,   3],\n",
       "       [  1, 316]], dtype=int64)"
      ]
     },
     "execution_count": 16,
     "metadata": {},
     "output_type": "execute_result"
    }
   ],
   "source": [
    "confusion_matrix(y_actual, y_predict) "
   ]
  },
  {
   "cell_type": "code",
   "execution_count": 15,
   "id": "ed37b0ea",
   "metadata": {},
   "outputs": [
    {
     "data": {
      "text/plain": [
       "<AxesSubplot:>"
      ]
     },
     "execution_count": 15,
     "metadata": {},
     "output_type": "execute_result"
    },
    {
     "data": {
      "image/png": "[encoded data removed]",
      "text/plain": [
       "<Figure size 648x360 with 2 Axes>"
      ]
     },
     "metadata": {
      "needs_background": "light"
     },
     "output_type": "display_data"
    }
   ],
   "source": [
    "from sklearn.metrics import classification_report,confusion_matrix\n",
    "cm = pd.DataFrame(data=confusion_matrix(y_actual, y_predict, labels=[0, 1]),index=[\"Actual Normal\", \"Actual COVID\"],\n",
    "columns=[\"Predicted Normal\", \"Predicted COVID\"])\n",
    "import seaborn as sns\n",
    "fig, ax = plt.subplots(figsize=(9,5))\n",
    "plt.rcParams.update({'font.size': 13})\n",
    "sns.heatmap(cm,annot=True,fmt=\"d\",ax=ax)"
   ]
  },
  {
   "cell_type": "code",
   "execution_count": 85,
   "id": "aea76738",
   "metadata": {},
   "outputs": [
    {
     "name": "stdout",
     "output_type": "stream",
     "text": [
      "              precision    recall  f1-score   support\n",
      "\n",
      "     Covid19       0.99      0.97      0.98       116\n",
      "      Normal       0.99      1.00      0.99       317\n",
      "\n",
      "    accuracy                           0.99       433\n",
      "   macro avg       0.99      0.99      0.99       433\n",
      "weighted avg       0.99      0.99      0.99       433\n",
      "\n"
     ]
    },
    {
     "data": {
      "text/html": [
       "<div>\n",
       "<style scoped>\n",
       "    .dataframe tbody tr th:only-of-type {\n",
       "        vertical-align: middle;\n",
       "    }\n",
       "\n",
       "    .dataframe tbody tr th {\n",
       "        vertical-align: top;\n",
       "    }\n",
       "\n",
       "    .dataframe thead th {\n",
       "        text-align: right;\n",
       "    }\n",
       "</style>\n",
       "<table border=\"1\" class=\"dataframe\">\n",
       "  <thead>\n",
       "    <tr style=\"text-align: right;\">\n",
       "      <th></th>\n",
       "      <th>precision</th>\n",
       "      <th>recall</th>\n",
       "      <th>f1-score</th>\n",
       "      <th>support</th>\n",
       "    </tr>\n",
       "  </thead>\n",
       "  <tbody>\n",
       "    <tr>\n",
       "      <th>Covid19</th>\n",
       "      <td>0.991228</td>\n",
       "      <td>0.974138</td>\n",
       "      <td>0.982609</td>\n",
       "      <td>116.000000</td>\n",
       "    </tr>\n",
       "    <tr>\n",
       "      <th>Normal</th>\n",
       "      <td>0.990596</td>\n",
       "      <td>0.996845</td>\n",
       "      <td>0.993711</td>\n",
       "      <td>317.000000</td>\n",
       "    </tr>\n",
       "    <tr>\n",
       "      <th>accuracy</th>\n",
       "      <td>0.990762</td>\n",
       "      <td>0.990762</td>\n",
       "      <td>0.990762</td>\n",
       "      <td>0.990762</td>\n",
       "    </tr>\n",
       "    <tr>\n",
       "      <th>macro avg</th>\n",
       "      <td>0.990912</td>\n",
       "      <td>0.985492</td>\n",
       "      <td>0.988160</td>\n",
       "      <td>433.000000</td>\n",
       "    </tr>\n",
       "    <tr>\n",
       "      <th>weighted avg</th>\n",
       "      <td>0.990765</td>\n",
       "      <td>0.990762</td>\n",
       "      <td>0.990736</td>\n",
       "      <td>433.000000</td>\n",
       "    </tr>\n",
       "  </tbody>\n",
       "</table>\n",
       "</div>"
      ],
      "text/plain": [
       "              precision    recall  f1-score     support\n",
       "Covid19        0.991228  0.974138  0.982609  116.000000\n",
       "Normal         0.990596  0.996845  0.993711  317.000000\n",
       "accuracy       0.990762  0.990762  0.990762    0.990762\n",
       "macro avg      0.990912  0.985492  0.988160  433.000000\n",
       "weighted avg   0.990765  0.990762  0.990736  433.000000"
      ]
     },
     "execution_count": 85,
     "metadata": {},
     "output_type": "execute_result"
    }
   ],
   "source": [
    "from sklearn.metrics import classification_report\n",
    "print (classification_report(y_actual, y_predict, target_names =['Covid19','Normal']))\n",
    "\n",
    "report = classification_report(y_actual, y_predict, target_names =['Covid19','Normal'], output_dict=True)\n",
    "df = pd.DataFrame(report).transpose()\n",
    "df"
   ]
  },
  {
   "cell_type": "code",
   "execution_count": 92,
   "id": "7143d021",
   "metadata": {},
   "outputs": [],
   "source": [
    "df.to_csv('Confusion Matrix Model 1.csv')"
   ]
  },
  {
   "cell_type": "markdown",
   "id": "b53e276b",
   "metadata": {},
   "source": [
    "### Confusion Matrix in each class "
   ]
  },
  {
   "cell_type": "code",
   "execution_count": 94,
   "id": "dad331c7",
   "metadata": {},
   "outputs": [
    {
     "name": "stdout",
     "output_type": "stream",
     "text": [
      "**Overall Results**\n",
      "Accuracy Result : 99.08%\n",
      "Precision Result: 99.06%\n",
      "Recall Result   : 99.68%\n",
      "F1-Score Result : 99.37%\n"
     ]
    },
    {
     "data": {
      "text/plain": [
       "<Figure size 432x288 with 0 Axes>"
      ]
     },
     "metadata": {},
     "output_type": "display_data"
    },
    {
     "data": {
      "image/png": "[encoded data removed]",
      "text/plain": [
       "<Figure size 864x360 with 1 Axes>"
      ]
     },
     "metadata": {},
     "output_type": "display_data"
    },
    {
     "data": {
      "image/png": "[encoded data removed]",
      "text/plain": [
       "<Figure size 864x360 with 1 Axes>"
      ]
     },
     "metadata": {},
     "output_type": "display_data"
    },
    {
     "data": {
      "image/png": "[encoded data removed]",
      "text/plain": [
       "<Figure size 864x360 with 1 Axes>"
      ]
     },
     "metadata": {},
     "output_type": "display_data"
    }
   ],
   "source": [
    "from sklearn.metrics import precision_recall_fscore_support, accuracy_score\n",
    "#Accuracy Result\n",
    "acc = accuracy_score(y_actual, y_predict)\n",
    "#Precision, Recall and F-Score (For the whole dataset)\n",
    "results_all = precision_recall_fscore_support(y_actual, y_predict, average='macro',zero_division = 1)\n",
    "#Precision, Recall and F-Score (For each Class)\n",
    "results_class = precision_recall_fscore_support(y_actual, y_predict, average=None, zero_division = 1)\n",
    "\n",
    "#Organise the Results into a Dataframe\n",
    "metric_columns = ['Precision','Recall', 'F1-Score','S']\n",
    "all_df = pd.concat([pd.DataFrame(list(results_class)).T,pd.DataFrame(list(results_all)).T])\n",
    "all_df.columns = metric_columns\n",
    "all_df.index = ['COVID','Normal','Total']\n",
    "\n",
    "#Function to plot the metrics into a nice bar Plot\n",
    "def metrics_plot(df,metric):\n",
    "    plt.figure(figsize=(12,5))\n",
    "    ax = sns.barplot(data =df, x=df.index, y = metric,palette = \"Blues_d\")\n",
    "    #Bar Labels\n",
    "    for p in ax.patches:\n",
    "        ax.annotate(\"%.1f%%\" % (100*p.get_height()), (p.get_x() + p.get_width() / 2., abs(p.get_height())),\n",
    "        ha='center', va='bottom', color='black', xytext=(-3, 5),rotation = 'horizontal',textcoords='offset points')\n",
    "    sns.despine(top=True, right=True, left=True, bottom=False)\n",
    "    ax.set_xlabel('Class',fontsize = 12,weight = 'bold')\n",
    "    ax.set_ylabel(metric,fontsize = 12,weight = 'bold')\n",
    "    ax.set(yticklabels=[])\n",
    "    ax.axes.get_yaxis().set_visible(False) \n",
    "    plt.title(metric+ ' Results per Class', fontsize = 13,weight = 'bold');\n",
    "    \n",
    "metrics_plot(all_df, 'Precision')#Results by Class\n",
    "metrics_plot(all_df, 'Recall')#Results by Class\n",
    "metrics_plot(all_df, 'F1-Score')#Results by Class\n",
    "print('**Overall Results**')\n",
    "print('Accuracy Result : %.2f%%'%(acc*100)) #Accuracy of the whole Dataset\n",
    "print('Precision Result: %.2f%%'%(all_df.iloc[1,0]*100))#Precision of the whole Dataset\n",
    "print('Recall Result   : %.2f%%'%(all_df.iloc[1,1]*100))#Recall of the whole Dataset\n",
    "print('F1-Score Result : %.2f%%'%(all_df.iloc[1,2]*100))#F-Score of the whole Dataset"
   ]
  },
  {
   "cell_type": "markdown",
   "id": "fa2c98a2",
   "metadata": {},
   "source": [
    "## ROC Curve "
   ]
  },
  {
   "cell_type": "code",
   "execution_count": 96,
   "id": "4fd4ec30",
   "metadata": {},
   "outputs": [
    {
     "data": {
      "image/png": "[encoded data removed]",
      "text/plain": [
       "<Figure size 432x288 with 1 Axes>"
      ]
     },
     "metadata": {},
     "output_type": "display_data"
    }
   ],
   "source": [
    "from sklearn.metrics import roc_curve\n",
    "fpr_keras, tpr_keras, thresholds_keras = roc_curve(y_actual, y_predict)\n",
    "from sklearn.metrics import auc\n",
    "auc_keras = auc(fpr_keras, tpr_keras)\n",
    "plt.figure(1)\n",
    "plt.plot([0, 1], [0, 1], 'k--')\n",
    "plt.plot(fpr_keras, tpr_keras, label='Keras (area = {:.3f})'.format(auc_keras))\n",
    "plt.xlabel('False positive rate')\n",
    "plt.ylabel('True positive rate')\n",
    "plt.title('ROC curve Model 1')\n",
    "plt.legend(loc='best')\n",
    "plt.savefig('ROC Curve Model 1.png')\n",
    "plt.show()"
   ]
  },
  {
   "cell_type": "markdown",
   "id": "54f06ba1",
   "metadata": {},
   "source": [
    "## Build Image Identification "
   ]
  },
  {
   "cell_type": "code",
   "execution_count": 87,
   "id": "085d4cb0",
   "metadata": {},
   "outputs": [
    {
     "name": "stdout",
     "output_type": "stream",
     "text": [
      "Jumlah Covid :762\n",
      "Jumlah Normal :238\n"
     ]
    }
   ],
   "source": [
    "covid = 0\n",
    "normal = 0\n",
    "for i in range(1, 1001): \n",
    "    test_image = image.load_img('../Download/dataset/train/COVID/COVID-' + str(i) + '.png', target_size = (400, 400))\n",
    "    test_image = image.img_to_array(test_image)\n",
    "    test_image = np.expand_dims(test_image, axis = 0)\n",
    "    result = model.predict(test_image)\n",
    "    if result[0][0] == 0:\n",
    "        prediction = 'COVID19'\n",
    "        covid = covid + 1\n",
    "    else:\n",
    "        prediction = 'NORMAL'\n",
    "        normal = normal + 1\n",
    "\n",
    "print(\"Jumlah Covid  :\" + str(covid))    \n",
    "print(\"Jumlah Normal :\" + str(normal))"
   ]
  },
  {
   "cell_type": "markdown",
   "id": "2dd90356",
   "metadata": {},
   "source": [
    "#### 1000 Images Covid \n",
    "\n",
    "From 1000 images from outside dataset use,\n",
    "Model 1 can suggest 762 has Covid Infected "
   ]
  },
  {
   "cell_type": "code",
   "execution_count": 89,
   "id": "f25210a9",
   "metadata": {},
   "outputs": [
    {
     "name": "stdout",
     "output_type": "stream",
     "text": [
      "Jumlah Covid :25\n",
      "Jumlah Normal :975\n"
     ]
    }
   ],
   "source": [
    "covid = 0\n",
    "normal = 0\n",
    "for i in range(1, 1001): \n",
    "    test_image = image.load_img('../Download/dataset/train/NORMAL/Normal-' + str(i) + '.png', target_size = (400, 400))\n",
    "    test_image = image.img_to_array(test_image)\n",
    "    test_image = np.expand_dims(test_image, axis = 0)\n",
    "    result = model.predict(test_image)\n",
    "    if result[0][0] == 0:\n",
    "        prediction = 'COVID19'\n",
    "        covid = covid + 1\n",
    "    else:\n",
    "        prediction = 'NORMAL'\n",
    "        normal = normal + 1\n",
    "\n",
    "print(\"Jumlah Covid :\" + str(covid))    \n",
    "print(\"Jumlah Normal :\" + str(normal))"
   ]
  },
  {
   "cell_type": "markdown",
   "id": "17bf61f8",
   "metadata": {},
   "source": [
    "#### 1000 Images Normal\n",
    "\n",
    "From 1000 images from outside dataset use, Model 1 can suggest 975 has Normal Lung"
   ]
  },
  {
   "cell_type": "markdown",
   "id": "4bfefaca",
   "metadata": {},
   "source": [
    "## Save Model & Weight "
   ]
  },
  {
   "cell_type": "code",
   "execution_count": 95,
   "id": "d76af54e",
   "metadata": {},
   "outputs": [
    {
     "name": "stdout",
     "output_type": "stream",
     "text": [
      "Saved model to disk\n"
     ]
    }
   ],
   "source": [
    "#save model\n",
    "model_json = model.to_json()\n",
    "with open(\"model.json\", \"w\") as json_file:\n",
    "    json_file.write(model_json)\n",
    "# serialize weights to HDF5\n",
    "model.save_weights(\"model.h5\")\n",
    "print(\"Saved model to disk\")"
   ]
  },
  {
   "cell_type": "markdown",
   "id": "b9cff862",
   "metadata": {},
   "source": [
    "## Load Model "
   ]
  },
  {
   "cell_type": "code",
   "execution_count": 3,
   "id": "12a5047c",
   "metadata": {},
   "outputs": [
    {
     "name": "stdout",
     "output_type": "stream",
     "text": [
      "Loaded model from disk\n"
     ]
    }
   ],
   "source": [
    "from keras.models import model_from_json\n",
    "json_file = open('../Model_Final/Model 1/model.json', 'r')\n",
    "loaded_model_json = json_file.read()\n",
    "json_file.close()\n",
    "loaded_model = model_from_json(loaded_model_json)\n",
    "loaded_model.load_weights(\"../Model_Final/Model 1/model.h5\")\n",
    "print(\"Loaded model from disk\")"
   ]
  },
  {
   "cell_type": "code",
   "execution_count": 2,
   "id": "5b2dda12",
   "metadata": {},
   "outputs": [
    {
     "name": "stdout",
     "output_type": "stream",
     "text": [
      "Model: \"sequential\"\n",
      "_________________________________________________________________\n",
      " Layer (type)                Output Shape              Param #   \n",
      "=================================================================\n",
      " conv2d (Conv2D)             (None, 200, 200, 32)      416       \n",
      "                                                                 \n",
      " max_pooling2d (MaxPooling2D  (None, 100, 100, 32)     0         \n",
      " )                                                               \n",
      "                                                                 \n",
      " conv2d_1 (Conv2D)           (None, 50, 50, 32)        4128      \n",
      "                                                                 \n",
      " max_pooling2d_1 (MaxPooling  (None, 25, 25, 32)       0         \n",
      " 2D)                                                             \n",
      "                                                                 \n",
      " conv2d_2 (Conv2D)           (None, 13, 13, 64)        8256      \n",
      "                                                                 \n",
      " max_pooling2d_2 (MaxPooling  (None, 6, 6, 64)         0         \n",
      " 2D)                                                             \n",
      "                                                                 \n",
      " flatten (Flatten)           (None, 2304)              0         \n",
      "                                                                 \n",
      " dense (Dense)               (None, 128)               295040    \n",
      "                                                                 \n",
      " dense_1 (Dense)             (None, 1)                 129       \n",
      "                                                                 \n",
      "=================================================================\n",
      "Total params: 307,969\n",
      "Trainable params: 307,969\n",
      "Non-trainable params: 0\n",
      "_________________________________________________________________\n"
     ]
    }
   ],
   "source": [
    "loaded_model.summary()"
   ]
  },
  {
   "cell_type": "code",
   "execution_count": 3,
   "id": "3bedfdc6",
   "metadata": {},
   "outputs": [],
   "source": [
    "loaded_model.compile(loss='binary_crossentropy', optimizer='adam', metrics=['accuracy'])"
   ]
  },
  {
   "cell_type": "markdown",
   "id": "6892a0dc",
   "metadata": {},
   "source": [
    "## PR Curve "
   ]
  },
  {
   "cell_type": "code",
   "execution_count": 35,
   "id": "405edb89",
   "metadata": {},
   "outputs": [
    {
     "data": {
      "image/png": "[encoded data removed]",
      "text/plain": [
       "<Figure size 432x288 with 1 Axes>"
      ]
     },
     "metadata": {
      "needs_background": "light"
     },
     "output_type": "display_data"
    }
   ],
   "source": [
    "from sklearn.metrics import precision_recall_curve\n",
    "from matplotlib import pyplot\n",
    "precision, recall, thresholds = precision_recall_curve(y_actual, y_predict)\n",
    "\n",
    "#create precision recall curve\n",
    "fig, ax = plt.subplots()\n",
    "ax.plot(recall, precision, color='purple')\n",
    "\n",
    "#add axis labels to plot\n",
    "ax.set_title('Precision-Recall Curve | Model 1')\n",
    "ax.set_ylabel('Precision')\n",
    "ax.set_xlabel('Recall')\n",
    "\n",
    "#display plot\n",
    "plt.show()"
   ]
  },
  {
   "cell_type": "code",
   "execution_count": 32,
   "id": "2ffbd28c",
   "metadata": {},
   "outputs": [
    {
     "name": "stdout",
     "output_type": "stream",
     "text": [
      "Logistic: f1=0.994 auc=0.995\n"
     ]
    },
    {
     "data": {
      "image/png": "[encoded data removed]",
      "text/plain": [
       "<Figure size 432x288 with 1 Axes>"
      ]
     },
     "metadata": {
      "needs_background": "light"
     },
     "output_type": "display_data"
    }
   ],
   "source": [
    "# precision-recall curve and f1\n",
    "from sklearn.metrics import f1_score\n",
    "from sklearn.metrics import auc\n",
    "from matplotlib import pyplot\n",
    "lr_precision, lr_recall, _ = precision_recall_curve(y_actual, y_predict)\n",
    "lr_f1, lr_auc = f1_score(y_actual, y_predict), auc(lr_recall, lr_precision)\n",
    "\n",
    "# summarize scores\n",
    "print('Logistic: f1=%.3f auc=%.3f' % (lr_f1, lr_auc))\n",
    "\n",
    "# plot the precision-recall curves\n",
    "no_skill = len(test_data_dir[test_data_dir==1]) / len(test_data_dir)\n",
    "pyplot.plot([0, 1], [no_skill, no_skill], linestyle='--', label='No Skill')\n",
    "pyplot.plot(lr_recall, lr_precision, marker='.', label='Logistic')\n",
    "# axis labels\n",
    "pyplot.xlabel('Recall')\n",
    "pyplot.ylabel('Precision')\n",
    "# show the legend\n",
    "pyplot.legend()\n",
    "# show the plot\n",
    "pyplot.show()"
   ]
  }
 ],
 "metadata": {
  "kernelspec": {
   "display_name": "Python 3 (ipykernel)",
   "language": "python",
   "name": "python3"
  },
  "language_info": {
   "codemirror_mode": {
    "name": "ipython",
    "version": 3
   },
   "file_extension": ".py",
   "mimetype": "text/x-python",
   "name": "python",
   "nbconvert_exporter": "python",
   "pygments_lexer": "ipython3",
   "version": "3.8.12"
  }
 },
 "nbformat": 4,
 "nbformat_minor": 5
}
